{
 "cells": [
  {
   "cell_type": "markdown",
   "metadata": {},
   "source": [
    "### The purpose of this notebook is to: text process the title, abstract, and body text columns, capture word count of abstract and body text into new columns, identify which publications mention African/African Americans, export African/African American focused dataset as csv 'cord_africa', and export Non-African/African American focused. dataset as csv 'cord_other' "
   ]
  },
  {
   "cell_type": "code",
   "execution_count": null,
   "metadata": {},
   "outputs": [],
   "source": [
    "import pandas as pd \n",
    "import re"
   ]
  },
  {
   "cell_type": "code",
   "execution_count": null,
   "metadata": {},
   "outputs": [],
   "source": [
    "cord = pd.read_csv('/content/drive/My Drive/nss_data_science/covid_query/data/cord19_df.csv')"
   ]
  },
  {
   "cell_type": "code",
   "execution_count": null,
   "metadata": {},
   "outputs": [],
   "source": [
    "cord = cord[['title','abstract','body_text','authors','journal','publish_year','doi']]"
   ]
  },
  {
   "cell_type": "markdown",
   "metadata": {},
   "source": [
    "CORD19 dataset from Kaggle has 47,110 rows of data."
   ]
  },
  {
   "cell_type": "code",
   "execution_count": null,
   "metadata": {},
   "outputs": [],
   "source": [
    "#remove rows with missing titles\n",
    "cord = cord[cord['title'].notna()]"
   ]
  },
  {
   "cell_type": "markdown",
   "metadata": {},
   "source": [
    "42,192 after removing missing titles"
   ]
  },
  {
   "cell_type": "code",
   "execution_count": null,
   "metadata": {},
   "outputs": [],
   "source": [
    "cord = cord.reset_index()"
   ]
  },
  {
   "cell_type": "code",
   "execution_count": null,
   "metadata": {},
   "outputs": [],
   "source": [
    "#change nan to Other in journal column\n",
    "cord[\"journal\"] = cord[\"journal\"].fillna(\"Other\")"
   ]
  },
  {
   "cell_type": "code",
   "execution_count": null,
   "metadata": {},
   "outputs": [],
   "source": [
    "#change title, abstract, body_text, and journal to string\n",
    "cord['title'] = cord['title'].astype(str)\n",
    "cord['abstract'] = cord['abstract'].astype(str)\n",
    "cord['body_text'] = cord['body_text'].astype(str)\n",
    "cord['journal'] = cord['journal'].astype(str)\n",
    "cord['publish_year'] = cord['publish_year'].astype(str)"
   ]
  },
  {
   "cell_type": "code",
   "execution_count": null,
   "metadata": {},
   "outputs": [],
   "source": [
    "#remove punctuation\n",
    "cord['body_text_processed'] = cord['body_text'].map(lambda x: re.sub('[,\\.!?]','',x))\n",
    "\n",
    "#convert title and body text to lowercase\n",
    "cord['title_processed'] = cord['title'].map(lambda x: x.lower())\n",
    "cord['body_text_processed'] = cord['body_text_processed'].map(lambda x: x.lower())\n",
    "cord['abstract_processed'] = cord['abstract'].map(lambda x: x.lower())"
   ]
  },
  {
   "cell_type": "code",
   "execution_count": null,
   "metadata": {},
   "outputs": [],
   "source": [
    "cord['abstract_processed'] = cord['abstract_processed'].fillna('')"
   ]
  },
  {
   "cell_type": "code",
   "execution_count": null,
   "metadata": {},
   "outputs": [],
   "source": [
    "#add a word count column for abstract and body text\n",
    "cord['abstract_word_count'] = cord['abstract'].apply(lambda x: len(x.strip().split()))\n",
    "cord['body_word_count'] = cord['body_text'].apply(lambda x: len(x.strip().split()))"
   ]
  },
  {
   "cell_type": "code",
   "execution_count": null,
   "metadata": {},
   "outputs": [],
   "source": [
    "#filter for publications mentioning African Americans/African\n",
    "aa_filter =['black people', 'african american people', 'african americans', 'african american','african','africa']\n",
    "pattern = '|'.join(aa_filter)\n",
    "\n",
    "cord['demographic'] = cord['abstract_processed'].str.contains(pattern)\n",
    "cord['demographic'] = cord['demographic'].astype(str)"
   ]
  },
  {
   "cell_type": "code",
   "execution_count": null,
   "metadata": {},
   "outputs": [],
   "source": [
    "#change T/F to AA/non-AA in \"africa\" column for AA/African related publications\n",
    "cord['demographic'] = cord['demographic'].str.replace(\"True\", \"African/African American\")\n",
    "cord['demographic'] = cord['demographic'].str.replace(\"False\", \"Non African/African American\")"
   ]
  },
  {
   "cell_type": "code",
   "execution_count": null,
   "metadata": {},
   "outputs": [],
   "source": [
    "#create DataFrames for african/african american and other\n",
    "cord_africa = cord[cord['demographic'].str.match('African/African American')]\n",
    "cord_other = cord[cord['demographic'].str.match('Non African/African American')]"
   ]
  },
  {
   "cell_type": "code",
   "execution_count": null,
   "metadata": {},
   "outputs": [],
   "source": [
    "#export cord_africa.csv and cord_other.csv to google drive\n",
    "cord_africa.to_csv('/content/drive/My Drive/nss_data_science/covid_query/data/cord_africa.csv')\n",
    "cord_other.to_csv('/content/drive/My Drive/nss_data_science/covid_query/data/cord_other.csv')"
   ]
  }
 ],
 "metadata": {
  "kernelspec": {
   "display_name": "Python 3",
   "language": "python",
   "name": "python3"
  },
  "language_info": {
   "codemirror_mode": {
    "name": "ipython",
    "version": 3
   },
   "file_extension": ".py",
   "mimetype": "text/x-python",
   "name": "python",
   "nbconvert_exporter": "python",
   "pygments_lexer": "ipython3",
   "version": "3.7.3"
  }
 },
 "nbformat": 4,
 "nbformat_minor": 2
}
