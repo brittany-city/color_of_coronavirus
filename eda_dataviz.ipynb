{
 "cells": [
  {
   "cell_type": "markdown",
   "metadata": {},
   "source": [
    "### Purpose of this notebook is to the explore the word count, publication year, common journals, and common words of the publications in dataset. "
   ]
  },
  {
   "cell_type": "code",
   "execution_count": null,
   "metadata": {},
   "outputs": [],
   "source": [
    "import pandas as pd \n",
    "import matplotlib.pyplot as plt\n",
    "from matplotlib import style\n",
    "style.use(\"ggplot\")\n",
    "import seaborn as sns\n",
    "sns.set_style('whitegrid')\n",
    "%matplotlib inline\n",
    "import plotly.express as px\n",
    "from PIL import Image\n",
    "import nltk\n",
    "nltk.download('stopwords')\n",
    "nltk.download('wordnet')\n",
    "from nltk.corpus import stopwords"
   ]
  },
  {
   "cell_type": "code",
   "execution_count": null,
   "metadata": {},
   "outputs": [],
   "source": [
    "cord_africa = cord_africa.pd.read_csv('/content/drive/My Drive/nss_data_science/covid_query/data/cord_africa.csv')"
   ]
  },
  {
   "cell_type": "code",
   "execution_count": null,
   "metadata": {},
   "outputs": [],
   "source": [
    "cord_other = cord_other.pd.read_csv('/content/drive/My Drive/nss_data_science/covid_query/data/cord_other.csv')"
   ]
  },
  {
   "cell_type": "markdown",
   "metadata": {},
   "source": [
    "#### Comparison of abstract word count, body word count, and publication year between African/African American and Non-African/African American"
   ]
  },
  {
   "cell_type": "code",
   "execution_count": null,
   "metadata": {},
   "outputs": [],
   "source": [
    "#abstract word count by demographic\n",
    "green_diamond = dict(markerfacecolor='g', marker='D')\n",
    "ax=cord.boxplot(column=['abstract_word_count'], by='demographic', flierprops=green_diamond)\n",
    "ax.set_title('Abstract Word Count by Publication Demographic', fontsize=12)\n",
    "plt.suptitle(\"\")\n",
    "ax.set_xlabel('Demographic', fontsize=10)\n",
    "ax.set_ylabel('Word Count', fontsize='medium') \n",
    ";"
   ]
  },
  {
   "cell_type": "code",
   "execution_count": null,
   "metadata": {},
   "outputs": [],
   "source": [
    "#body word count by demographic\n",
    "green_diamond = dict(markerfacecolor='g', marker='D')\n",
    "ax=cord.boxplot(column=['body_word_count'], by='demographic', flierprops=green_diamond)\n",
    "ax.set_title('Body Text Word Count by Publication Demographic', fontsize=12)\n",
    "plt.suptitle(\"\")\n",
    "ax.set_xlabel('Demographic', fontsize=10)\n",
    "ax.set_ylabel('Word Count', fontsize='medium') ;"
   ]
  },
  {
   "cell_type": "code",
   "execution_count": null,
   "metadata": {},
   "outputs": [],
   "source": [
    "#publication year by demographic\n",
    "cord.groupby(['publish_year','demographic'])['title'].count().unstack().plot()\n",
    "plt.grid(b=None)\n",
    "plt.xlim(right=2020)\n",
    "plt.xlabel ('Publication Year')\n",
    "plt.ylabel ('Total Publications')\n",
    "plt.title ('Yearly Publications by Demographic')\n",
    "plt.gca().spines['top'].set_visible(False)\n",
    "plt.gca().spines['right'].set_visible(False)\n",
    "plt.figure(figsize=(20,10))\n",
    ";"
   ]
  },
  {
   "cell_type": "markdown",
   "metadata": {},
   "source": [
    "#### Common Words in African/African American publications"
   ]
  },
  {
   "cell_type": "code",
   "execution_count": null,
   "metadata": {},
   "outputs": [],
   "source": [
    "def word_bar_graph_function(df,column,title):\n",
    "    # adapted from https://www.kaggle.com/benhamner/most-common-forum-topic-words\n",
    "    topic_words = [ z.lower() for y in\n",
    "                       [ x.split() for x in cord_africa[column] if isinstance(x, str)]\n",
    "                       for z in y]\n",
    "    word_count_dict = dict(Counter(topic_words))\n",
    "    popular_words = sorted(word_count_dict, key = word_count_dict.get, reverse = True)\n",
    "    popular_words_nonstop = [w for w in popular_words if w not in stopwords.words(\"english\")]\n",
    "    plt.barh(range(20), [word_count_dict[w] for w in reversed(popular_words_nonstop[0:20])])\n",
    "    plt.yticks([x + 0.5 for x in range(20)], reversed(popular_words_nonstop[0:20]))\n",
    "    plt.xlabel ('Word Frequency in Publication Titles')\n",
    "    plt.ylabel ('Words')\n",
    "    plt.title(title)\n",
    "    plt.show()"
   ]
  },
  {
   "cell_type": "code",
   "execution_count": null,
   "metadata": {},
   "outputs": [],
   "source": [
    "plt.figure(figsize=(10,6))\n",
    "word_bar_graph_function(cord_africa,'title','Top 20 Words in Titles of African/African American Coronavirus-related Publications')"
   ]
  },
  {
   "cell_type": "markdown",
   "metadata": {},
   "source": [
    "#### Common Journals in African/African American publications"
   ]
  },
  {
   "cell_type": "code",
   "execution_count": null,
   "metadata": {},
   "outputs": [],
   "source": [
    "value_counts = cord_africa['journal'].value_counts()\n",
    "value_counts_df = pd.DataFrame(value_counts)\n",
    "value_counts_df['journal_name'] = value_counts_df.index\n",
    "value_counts_df['count'] = value_counts_df['journal']\n",
    "fig = px.bar(value_counts_df.sort_values('count',ascending=False)[0:20],\n",
    "             x=\"count\", \n",
    "             y=\"journal_name\",\n",
    "             title='Most Common Journals of African/African American Coronovirus-related Publications ',\n",
    "             orientation='h',\n",
    "             labels={'count':'Number of Journals','journal_name':'Journal Name'})\n",
    "\n",
    "fig.show()"
   ]
  },
  {
   "cell_type": "markdown",
   "metadata": {},
   "source": [
    "#### Common Words in Non-African/African American publications"
   ]
  },
  {
   "cell_type": "code",
   "execution_count": null,
   "metadata": {},
   "outputs": [],
   "source": [
    "def word_bar_graph_function(df,column,title):\n",
    "    # adapted from https://www.kaggle.com/benhamner/most-common-forum-topic-words\n",
    "    topic_words = [ z.lower() for y in\n",
    "                       [ x.split() for x in cord_other[column] if isinstance(x, str)]\n",
    "                       for z in y]\n",
    "    word_count_dict = dict(Counter(topic_words))\n",
    "    popular_words = sorted(word_count_dict, key = word_count_dict.get, reverse = True)\n",
    "    popular_words_nonstop = [w for w in popular_words if w not in stopwords.words(\"english\")]\n",
    "    plt.barh(range(20), [word_count_dict[w] for w in reversed(popular_words_nonstop[0:20])])\n",
    "    plt.yticks([x + 0.5 for x in range(20)], reversed(popular_words_nonstop[0:20]))\n",
    "    plt.xlabel ('Word Frequency in Publication Titles')\n",
    "    plt.ylabel ('Words')\n",
    "    plt.title(title)\n",
    "    plt.show()"
   ]
  },
  {
   "cell_type": "code",
   "execution_count": null,
   "metadata": {},
   "outputs": [],
   "source": [
    "plt.figure(figsize=(10,6))\n",
    "word_bar_graph_function(cord_other,'title','Top 20 Words in Titles of Non-African/African American Coronavirus-related Publications')"
   ]
  },
  {
   "cell_type": "markdown",
   "metadata": {},
   "source": [
    "#### Common Journals in Non-African/African American publications"
   ]
  },
  {
   "cell_type": "code",
   "execution_count": null,
   "metadata": {},
   "outputs": [],
   "source": [
    "value_counts = cord_other['journal'].value_counts()\n",
    "value_counts_df = pd.DataFrame(value_counts)\n",
    "value_counts_df['journal_name'] = value_counts_df.index\n",
    "value_counts_df['count'] = value_counts_df['journal']\n",
    "fig = px.bar(value_counts_df.sort_values('count',ascending=False)[0:20],\n",
    "             x=\"count\", \n",
    "             y=\"journal_name\",\n",
    "             title='Most Common Journals in Non-African/African American Coronavirus-related Publications',\n",
    "             orientation='h',\n",
    "             labels={'count':'Number of Journals','journal_name':'Journal Name'})\n",
    "\n",
    "fig.show()"
   ]
  }
 ],
 "metadata": {
  "kernelspec": {
   "display_name": "Python 3",
   "language": "python",
   "name": "python3"
  },
  "language_info": {
   "codemirror_mode": {
    "name": "ipython",
    "version": 3
   },
   "file_extension": ".py",
   "mimetype": "text/x-python",
   "name": "python",
   "nbconvert_exporter": "python",
   "pygments_lexer": "ipython3",
   "version": "3.7.3"
  }
 },
 "nbformat": 4,
 "nbformat_minor": 2
}
