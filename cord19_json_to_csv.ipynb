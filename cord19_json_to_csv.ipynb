{
 "cells": [
  {
   "cell_type": "markdown",
   "metadata": {
    "colab_type": "text",
    "id": "oNrZm1hLLQdr"
   },
   "source": [
    "### The purpose of this notebook is to convert the JSON files from Kaggle into one csv file. This was completed in Kaggle and done with the help of code from: https://www.kaggle.com/mohamedboussakssou. "
   ]
  },
  {
   "cell_type": "code",
   "execution_count": 0,
   "metadata": {
    "colab": {},
    "colab_type": "code",
    "id": "RN4YYA8ULJQx"
   },
   "outputs": [],
   "source": [
    "import numpy as np \n",
    "import pandas as pd \n",
    "\n",
    "import os\n",
    "import json"
   ]
  },
  {
   "cell_type": "code",
   "execution_count": 0,
   "metadata": {
    "colab": {},
    "colab_type": "code",
    "id": "bgqa4284LhHw"
   },
   "outputs": [],
   "source": [
    "dirs = ['/kaggle/input/CORD-19-research-challenge/biorxiv_medrxiv/biorxiv_medrxiv/',\n",
    "        '/kaggle/input/CORD-19-research-challenge/comm_use_subset/comm_use_subset/',\n",
    "        '/kaggle/input/CORD-19-research-challenge/noncomm_use_subset/noncomm_use_subset/',\n",
    "        '/kaggle/input/CORD-19-research-challenge/custom_license/custom_license/'\n",
    "       ]\n",
    "\n",
    "\n",
    "filenames=[]\n",
    "docs =[]\n",
    "for d in dirs:\n",
    "    for file in os.listdir(d):\n",
    "        filename = d +file\n",
    "        j = json.load(open(filename, 'rb'))\n",
    "        \n",
    "        paper_id =j['paper_id']\n",
    "        \n",
    "        title = j['metadata']['title']\n",
    "        authors = j['metadata']['authors']\n",
    "        list_authors =[]\n",
    "        for author in authors:\n",
    "            if(len(author['middle'])==0):\n",
    "                middle =\"\"\n",
    "            else :\n",
    "                middle = author['middle'][0]\n",
    "            _authors =author['first']+ \" \"+ middle +\" \"+ author['last']\n",
    "            list_authors.append(_authors)\n",
    "            \n",
    "        try :\n",
    "            abstract =  j['abstract'][0]['text']\n",
    "        except :\n",
    "            abstract =\" \"\n",
    "        \n",
    "        full_text =\"\"\n",
    "        for text in  j['body_text']:\n",
    "            full_text += text['text']\n",
    "        \n",
    "        docs.append([paper_id,title,list_authors,abstract,full_text])\n",
    "\n",
    "cord19_df = pd.DataFrame(docs,columns=['title','abstract','body_text','authors','journal','publish_year','doi'])\n",
    "cord19_df.to_csv('/kaggle/working/cord19_df.csv')"
   ]
  }
 ],
 "metadata": {
  "colab": {
   "name": "json_to_csv.ipynb",
   "provenance": []
  },
  "kernelspec": {
   "display_name": "Python 3",
   "language": "python",
   "name": "python3"
  },
  "language_info": {
   "codemirror_mode": {
    "name": "ipython",
    "version": 3
   },
   "file_extension": ".py",
   "mimetype": "text/x-python",
   "name": "python",
   "nbconvert_exporter": "python",
   "pygments_lexer": "ipython3",
   "version": "3.7.3"
  }
 },
 "nbformat": 4,
 "nbformat_minor": 1
}
