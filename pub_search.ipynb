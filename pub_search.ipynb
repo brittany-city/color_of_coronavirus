{
 "cells": [
  {
   "cell_type": "markdown",
   "metadata": {},
   "source": [
    "### The purpose of this notebook is to develop a search tool that searches African/African American coronavirus-related publications and provides related publications including the title, authors, abstract, and top 5 related sentences. "
   ]
  },
  {
   "cell_type": "code",
   "execution_count": 4,
   "metadata": {
    "colab": {
     "base_uri": "https://localhost:8080/",
     "height": 173
    },
    "colab_type": "code",
    "id": "U8D0ddS2kMKE",
    "outputId": "f9869f1b-d642-41dc-ce45-85d8a967f9db"
   },
   "outputs": [
    {
     "name": "stderr",
     "output_type": "stream",
     "text": [
      "/usr/local/lib/python3.6/dist-packages/statsmodels/tools/_testing.py:19: FutureWarning: pandas.util.testing is deprecated. Use the functions in the public API at pandas.testing instead.\n",
      "  import pandas.util.testing as tm\n"
     ]
    },
    {
     "name": "stdout",
     "output_type": "stream",
     "text": [
      "[nltk_data] Downloading package stopwords to /root/nltk_data...\n",
      "[nltk_data]   Package stopwords is already up-to-date!\n",
      "[nltk_data] Downloading package wordnet to /root/nltk_data...\n",
      "[nltk_data]   Package wordnet is already up-to-date!\n",
      "[nltk_data] Downloading package punkt to /root/nltk_data...\n",
      "[nltk_data]   Package punkt is already up-to-date!\n"
     ]
    }
   ],
   "source": [
    "import numpy as np \n",
    "import pandas as pd \n",
    "import os\n",
    "import re\n",
    "import matplotlib.pyplot as plt\n",
    "from matplotlib import style\n",
    "style.use(\"ggplot\")\n",
    "import seaborn as sns\n",
    "sns.set_style('whitegrid')\n",
    "%matplotlib inline\n",
    "import plotly.express as px\n",
    "from PIL import Image\n",
    "\n",
    "import nltk\n",
    "nltk.download('stopwords')\n",
    "nltk.download('wordnet')\n",
    "nltk.download('punkt')\n",
    "from nltk.corpus import stopwords\n",
    "from wordcloud import WordCloud, STOPWORDS, ImageColorGenerator\n",
    "from sklearn.metrics.pairwise import cosine_similarity\n",
    "from sklearn.feature_extraction.text import CountVectorizer\n",
    "\n",
    "import gensim\n",
    "from gensim.models.doc2vec import Doc2Vec, TaggedDocument\n",
    "from gensim.models import Word2Vec\n",
    "from gensim.parsing.preprocessing import preprocess_string\n",
    "from gensim.summarization.textcleaner import get_sentences\n",
    "from gensim.summarization import summarize\n",
    "from nltk.tokenize import RegexpTokenizer\n",
    "from nltk.stem.wordnet import WordNetLemmatizer\n",
    "from gensim.corpora import Dictionary\n",
    "\n",
    "import ipywidgets as widgets\n",
    "from ipywidgets import interact, interactive, fixed, interact_manual\n",
    "from IPython.display import display, HTML\n",
    "\n",
    "import warnings \n",
    "warnings.filterwarnings('ignore')\n",
    "import time\n",
    "from collections import Counter\n",
    "from tqdm import tqdm"
   ]
  },
  {
   "cell_type": "code",
   "execution_count": 0,
   "metadata": {
    "colab": {},
    "colab_type": "code",
    "id": "1r9xQ5JlkPLm"
   },
   "outputs": [],
   "source": [
    "cord_africa = pd.read_csv('/content/drive/My Drive/nss_data_science/covid_query/data/cord_africa.csv')"
   ]
  },
  {
   "cell_type": "code",
   "execution_count": 0,
   "metadata": {
    "colab": {},
    "colab_type": "code",
    "id": "TF2FSNf2kTK6"
   },
   "outputs": [],
   "source": [
    "# Concatenating title, abstract and body_text\n",
    "cord_search = cord_africa.loc[(cord_africa.title.notna()&cord_africa.authors.notna()&cord_africa.abstract.notna()), :].reset_index(drop=True)\n",
    "\n",
    "cord_search[\"paper\"] = cord_search.title + \" \" + cord_search.abstract + \" \" + cord_search.body_text"
   ]
  },
  {
   "cell_type": "code",
   "execution_count": 0,
   "metadata": {
    "colab": {},
    "colab_type": "code",
    "id": "I75iFD00kXVi"
   },
   "outputs": [],
   "source": [
    "# Cleaning and preprocessing (tokenization and filtering)\n",
    "cord_search[\"paper_token\"] = cord_search.paper.apply(preprocess_string)"
   ]
  },
  {
   "cell_type": "markdown",
   "metadata": {
    "colab_type": "text",
    "id": "VJsuGLs5kb8G"
   },
   "source": [
    "Doc2Vec Model"
   ]
  },
  {
   "cell_type": "code",
   "execution_count": 0,
   "metadata": {
    "colab": {},
    "colab_type": "code",
    "id": "jH3kDoN1kY4n"
   },
   "outputs": [],
   "source": [
    "# Preparing inputs to the doc2vec model\n",
    "n_papers = cord_search.shape[0]\n",
    "cord_search[\"paper_tag\"] = [TaggedDocument(words=cord_search.paper_token[i],tags=[i]) for i in range(n_papers)]"
   ]
  },
  {
   "cell_type": "code",
   "execution_count": 0,
   "metadata": {
    "colab": {},
    "colab_type": "code",
    "id": "7bVJj_e2keIV"
   },
   "outputs": [],
   "source": [
    "# Training and saving the doc2vec model\n",
    "model_doc2vec = Doc2Vec(cord_search.paper_tag.values, dm=1, vector_size=200, window=5, min_count=1, workers=8, epochs=5)"
   ]
  },
  {
   "cell_type": "markdown",
   "metadata": {
    "colab_type": "text",
    "id": "H_0DwLWhkjPG"
   },
   "source": [
    "Finding n closest papers to search"
   ]
  },
  {
   "cell_type": "code",
   "execution_count": 0,
   "metadata": {
    "colab": {},
    "colab_type": "code",
    "id": "Sm_PiyyDkgLN"
   },
   "outputs": [],
   "source": [
    "# A function to detect tags in texts\n",
    "def TagInText(text, tag_list):\n",
    "    tagIn = False\n",
    "    for tag in tag_list:\n",
    "        match = re.match(\".* {}.*|.* {}.*|.* {}.*\".format(tag.lower(), tag.upper(), tag.capitalize()), text)\n",
    "        if match:\n",
    "            tagIn=True\n",
    "    \n",
    "    return tagIn"
   ]
  },
  {
   "cell_type": "markdown",
   "metadata": {
    "colab_type": "text",
    "id": "Bay_bQ0SkpOh"
   },
   "source": [
    "Training a word to vec model"
   ]
  },
  {
   "cell_type": "code",
   "execution_count": 0,
   "metadata": {
    "colab": {},
    "colab_type": "code",
    "id": "6Z3xDeNvklEP"
   },
   "outputs": [],
   "source": [
    "model_word2vec = Word2Vec(sentences=cord_search.paper_token, size=100,window=5,min_count=1, seed=1,  sg =0)\n",
    "def SimilarWords(tags):\n",
    "    tag_list = preprocess_string(tags)\n",
    "    similar_words_list = []\n",
    "    for tag in tag_list:\n",
    "        #try is important here to avoid errors if a word is not in the vocabulary\n",
    "        try:\n",
    "            similar_words = model_word2vec.wv.most_similar(tag.lower())\n",
    "            similar_words = [word_sim[0] for word_sim in similar_words]\n",
    "            similar_words_list = similar_words_list + similar_words\n",
    "        except:\n",
    "            pass\n",
    "    \n",
    "    return list(set(similar_words_list)) #using set allows to filter out duplicates"
   ]
  },
  {
   "cell_type": "code",
   "execution_count": 0,
   "metadata": {
    "colab": {},
    "colab_type": "code",
    "id": "0laQMtCMkrG9"
   },
   "outputs": [],
   "source": [
    "#A function that finds indexes of papers matching to the search\n",
    "def SearchIndex(search, data, column, model_doc2vec, tags=None, topn=10, seed=0):\n",
    "    \n",
    "    \"\"\"\n",
    "    Take a search string and return list of line indexes of n closest papers\n",
    "    \n",
    "    search: string containing the query\n",
    "    data: papers dataframe in the right format\n",
    "    column: column in \"data\" containing papers texts\n",
    "    model_doc2vec: a Doc2Vec model trained on papers from \"data\"\n",
    "    tags: string with tag words\n",
    "    topn: maximum number of results to be returned,\n",
    "    seed: an integer for random seed; useful for the doc2vec model. \n",
    "    \"\"\"\n",
    "        \n",
    "    n = data.shape[0]\n",
    "    model_doc2vec.random.seed(seed)\n",
    "    search = preprocess_string(search)\n",
    "    search_vec = model_doc2vec.infer_vector(search)\n",
    "    similar_text_index = model_doc2vec.docvecs.most_similar([search_vec], topn = n)\n",
    "    similar_text_index = [index_sim[0] for index_sim in similar_text_index  if index_sim[0] in data.index]\n",
    "    \n",
    "    if tags: \n",
    "        tag_list = preprocess_string(tags)\n",
    "        similar_words = SimilarWords(tags)\n",
    "        tag_list = tag_list + similar_words\n",
    "        \n",
    "        filter_papers_index = []\n",
    "\n",
    "        #finding articles containing tags\n",
    "        tagged = data[column].apply(lambda paper: TagInText(paper,tag_list))\n",
    "        tagged_papers_index = data[tagged].index\n",
    "        \n",
    "        similar_text_index = [index for index in similar_text_index if index in tagged_papers_index]\n",
    "\n",
    "    \n",
    "    similar_text_index = similar_text_index[:topn]\n",
    "\n",
    "    \n",
    "    \n",
    "    return similar_text_index"
   ]
  },
  {
   "cell_type": "code",
   "execution_count": 13,
   "metadata": {
    "colab": {
     "base_uri": "https://localhost:8080/",
     "height": 98,
     "referenced_widgets": [
      "a92f97c2473641ac8de9800d4e209232",
      "f59aee79e8ed4044860b6d52efc00901",
      "a72ffce6a05842d495c1efb2bd34240b",
      "7672b90285814ba4abbae8235bed0bd6",
      "29833d42b5294858b4d50543900bf4fe",
      "749d78e7f25044efa6dcc2eeafb8f823",
      "abc1989fcb7c45c1a2580e1f4a9f1f40",
      "a0cd4e270a564ec9b0697ae78ca72eaa",
      "08dcdb54601848508b1c50696dc3001b",
      "81d9e5e082bc458b8af25aad24100719",
      "3820c5b990d842c5ac23e1f62a329ed3",
      "81a56d0777df46d0873d44e3878884cc"
     ]
    },
    "colab_type": "code",
    "id": "BJ_jBlMqmR5_",
    "outputId": "9e5c0767-64bc-43dc-8f9f-7c782df16fd8"
   },
   "outputs": [
    {
     "data": {
      "application/vnd.jupyter.widget-view+json": {
       "model_id": "a92f97c2473641ac8de9800d4e209232",
       "version_major": 2,
       "version_minor": 0
      },
      "text/plain": [
       "interactive(children=(Text(value='', description='Search'), Output()), _dom_classes=('widget-interact',))"
      ]
     },
     "metadata": {
      "tags": []
     },
     "output_type": "display_data"
    },
    {
     "data": {
      "application/vnd.jupyter.widget-view+json": {
       "model_id": "a0cd4e270a564ec9b0697ae78ca72eaa",
       "version_major": 2,
       "version_minor": 0
      },
      "text/plain": [
       "Button(description='Run', style=ButtonStyle())"
      ]
     },
     "metadata": {
      "tags": []
     },
     "output_type": "display_data"
    },
    {
     "data": {
      "application/vnd.jupyter.widget-view+json": {
       "model_id": "3820c5b990d842c5ac23e1f62a329ed3",
       "version_major": 2,
       "version_minor": 0
      },
      "text/plain": [
       "Output()"
      ]
     },
     "metadata": {
      "tags": []
     },
     "output_type": "display_data"
    }
   ],
   "source": [
    "def f(Search):\n",
    "    search.value = str(Search)\n",
    "    \n",
    "text = 'Enter search here:'\n",
    "search = widgets.Text()\n",
    "interact(f,Search=search)\n",
    "button = widgets.Button(description=\"Run\")\n",
    "output = widgets.Output()\n",
    "display(button, output)\n",
    "\n",
    "def on_button_clicked(Search):\n",
    "    with output:\n",
    "        print(str(search.value))\n",
    "\n",
    "button.on_click(on_button_clicked)\n"
   ]
  },
  {
   "cell_type": "code",
   "execution_count": 14,
   "metadata": {
    "colab": {
     "base_uri": "https://localhost:8080/",
     "height": 49,
     "referenced_widgets": [
      "a72ffce6a05842d495c1efb2bd34240b",
      "29833d42b5294858b4d50543900bf4fe",
      "749d78e7f25044efa6dcc2eeafb8f823"
     ]
    },
    "colab_type": "code",
    "id": "cUG5Ylm4du5i",
    "outputId": "d4eacf93-5202-4839-822d-ac4773b088c3"
   },
   "outputs": [
    {
     "data": {
      "application/vnd.jupyter.widget-view+json": {
       "model_id": "a72ffce6a05842d495c1efb2bd34240b",
       "version_major": 2,
       "version_minor": 0
      },
      "text/plain": [
       "Text(value='what is covid risk', description='Search')"
      ]
     },
     "metadata": {
      "tags": []
     },
     "output_type": "display_data"
    }
   ],
   "source": [
    "search"
   ]
  },
  {
   "cell_type": "code",
   "execution_count": 15,
   "metadata": {
    "colab": {
     "base_uri": "https://localhost:8080/",
     "height": 54
    },
    "colab_type": "code",
    "id": "mlWAfvXLAJv2",
    "outputId": "374b4f3f-fc81-44a6-ae4c-8a60f8eb2f6c"
   },
   "outputs": [
    {
     "data": {
      "text/plain": [
       "'what, is, covid, risk, chanc, true, awar, situat, worst, impact, occup, ongo, contributori, hazard, evd, burden, consequ, vulner, instanc, pandem, agriculturerel, danger, underestim, actual'"
      ]
     },
     "execution_count": 15,
     "metadata": {
      "tags": []
     },
     "output_type": "execute_result"
    }
   ],
   "source": [
    "search = str(search.value)\n",
    "tags = nltk.word_tokenize(search)\n",
    "similar_tags = SimilarWords(search)\n",
    "tags = tags + similar_tags\n",
    "tags = (', '.join(str(x) for x in tags))\n",
    "tags"
   ]
  },
  {
   "cell_type": "code",
   "execution_count": 16,
   "metadata": {
    "colab": {
     "base_uri": "https://localhost:8080/",
     "height": 34
    },
    "colab_type": "code",
    "id": "5jiVLu57JiWH",
    "outputId": "6dc16943-5f72-4bd2-aa62-09332a5fc8e0"
   },
   "outputs": [
    {
     "data": {
      "text/plain": [
       "[184, 492, 845, 318, 403]"
      ]
     },
     "execution_count": 16,
     "metadata": {
      "tags": []
     },
     "output_type": "execute_result"
    }
   ],
   "source": [
    "select_indexes = SearchIndex(search=search, data=cord_search, column=\"paper\", model_doc2vec=model_doc2vec, topn=5)\n",
    "select_indexes"
   ]
  },
  {
   "cell_type": "code",
   "execution_count": 17,
   "metadata": {
    "colab": {
     "base_uri": "https://localhost:8080/",
     "height": 419
    },
    "colab_type": "code",
    "id": "GtgtRyZzk3g_",
    "outputId": "a29cd1e6-64ee-41bf-85cd-6119f61492a0"
   },
   "outputs": [
    {
     "data": {
      "text/html": [
       "<div>\n",
       "<style scoped>\n",
       "    .dataframe tbody tr th:only-of-type {\n",
       "        vertical-align: middle;\n",
       "    }\n",
       "\n",
       "    .dataframe tbody tr th {\n",
       "        vertical-align: top;\n",
       "    }\n",
       "\n",
       "    .dataframe thead th {\n",
       "        text-align: right;\n",
       "    }\n",
       "</style>\n",
       "<table border=\"1\" class=\"dataframe\">\n",
       "  <thead>\n",
       "    <tr style=\"text-align: right;\">\n",
       "      <th></th>\n",
       "      <th>paper_index</th>\n",
       "      <th>sentence</th>\n",
       "    </tr>\n",
       "  </thead>\n",
       "  <tbody>\n",
       "    <tr>\n",
       "      <th>0</th>\n",
       "      <td>184</td>\n",
       "      <td>outbreaks.</td>\n",
       "    </tr>\n",
       "    <tr>\n",
       "      <th>1</th>\n",
       "      <td>184</td>\n",
       "      <td>Nigeria's current national health systems cann...</td>\n",
       "    </tr>\n",
       "    <tr>\n",
       "      <th>2</th>\n",
       "      <td>184</td>\n",
       "      <td>This has grim implications for Nigeria especia...</td>\n",
       "    </tr>\n",
       "    <tr>\n",
       "      <th>3</th>\n",
       "      <td>184</td>\n",
       "      <td>The provision of quarantine or isolation facil...</td>\n",
       "    </tr>\n",
       "    <tr>\n",
       "      <th>4</th>\n",
       "      <td>184</td>\n",
       "      <td>Conclusion: There is an urgent need to put in ...</td>\n",
       "    </tr>\n",
       "    <tr>\n",
       "      <th>...</th>\n",
       "      <td>...</td>\n",
       "      <td>...</td>\n",
       "    </tr>\n",
       "    <tr>\n",
       "      <th>26</th>\n",
       "      <td>403</td>\n",
       "      <td>The drug should be active in cells of the nerv...</td>\n",
       "    </tr>\n",
       "    <tr>\n",
       "      <th>27</th>\n",
       "      <td>403</td>\n",
       "      <td>For example, the unfavorable toxicity profile ...</td>\n",
       "    </tr>\n",
       "    <tr>\n",
       "      <th>28</th>\n",
       "      <td>403</td>\n",
       "      <td>In addition, a lesson learned from treating ot...</td>\n",
       "    </tr>\n",
       "    <tr>\n",
       "      <th>29</th>\n",
       "      <td>403</td>\n",
       "      <td>Given the time needed to develop and approve n...</td>\n",
       "    </tr>\n",
       "    <tr>\n",
       "      <th>30</th>\n",
       "      <td>403</td>\n",
       "      <td>A major lesson from this outbreak and previous...</td>\n",
       "    </tr>\n",
       "  </tbody>\n",
       "</table>\n",
       "<p>215 rows × 2 columns</p>\n",
       "</div>"
      ],
      "text/plain": [
       "   paper_index                                           sentence\n",
       "0          184                                         outbreaks.\n",
       "1          184  Nigeria's current national health systems cann...\n",
       "2          184  This has grim implications for Nigeria especia...\n",
       "3          184  The provision of quarantine or isolation facil...\n",
       "4          184  Conclusion: There is an urgent need to put in ...\n",
       "..         ...                                                ...\n",
       "26         403  The drug should be active in cells of the nerv...\n",
       "27         403  For example, the unfavorable toxicity profile ...\n",
       "28         403  In addition, a lesson learned from treating ot...\n",
       "29         403  Given the time needed to develop and approve n...\n",
       "30         403  A major lesson from this outbreak and previous...\n",
       "\n",
       "[215 rows x 2 columns]"
      ]
     },
     "execution_count": 17,
     "metadata": {
      "tags": []
     },
     "output_type": "execute_result"
    }
   ],
   "source": [
    "select_indexes = SearchIndex(search=search, data=cord_search, column=\"paper\", model_doc2vec=model_doc2vec, topn=5)\n",
    "select_indexes\n",
    "\n",
    "##For each relevant paper, find the top n sentences matching the search (in the body text)\n",
    "#generating a dataframe for sentences\n",
    "sentences_df = pd.DataFrame(columns=[\"paper_index\", \"sentence\"])\n",
    "\n",
    "for paper_index in select_indexes:\n",
    "\n",
    "    sentences_list = list(get_sentences(cord_search.loc[paper_index, \"body_text\"]))\n",
    "    n_sent = len(sentences_list)\n",
    "    new_sent_df = pd.DataFrame(list(zip([paper_index]*n_sent, sentences_list)) , columns=[\"paper_index\", \"sentence\"])\n",
    "    sentences_df = sentences_df.append(new_sent_df)\n",
    "sentences_df"
   ]
  },
  {
   "cell_type": "code",
   "execution_count": 0,
   "metadata": {
    "colab": {},
    "colab_type": "code",
    "id": "ZamJ86T_k7v6"
   },
   "outputs": [],
   "source": [
    "#sentences preprocessing by filtering out non relevant sentences \n",
    "\n",
    "pattern = \".*doi.*|.*http.*|.*copyright.*|.*author.*|.*license.*|.*without permission.*|.*CC-BY-NC-ND.*|.*author.*|.*funder.*|.*medrxiv.*|.*fig.*|.*all rights.*\"\n",
    "sentences_df[\"filtered\"] = sentences_df[\"sentence\"].apply(lambda sent: True if re.match(pattern, sent.lower()) else False)\n",
    "\n",
    "sentences_df = sentences_df.loc[~sentences_df.filtered,:]\n",
    "sentences_df = sentences_df.reset_index(drop=True)\n",
    "\n",
    "sentences_df.head()\n",
    "\n",
    "sentences_df[\"sentence_token\"] = sentences_df.sentence.apply(preprocess_string)"
   ]
  },
  {
   "cell_type": "code",
   "execution_count": 0,
   "metadata": {
    "colab": {},
    "colab_type": "code",
    "id": "Oumcfah4l5cD"
   },
   "outputs": [],
   "source": [
    "sentences_df = sentences_df.dropna().reset_index(drop=True)"
   ]
  },
  {
   "cell_type": "code",
   "execution_count": 20,
   "metadata": {
    "colab": {
     "base_uri": "https://localhost:8080/",
     "height": 122
    },
    "colab_type": "code",
    "id": "rqsCQjBamBiC",
    "outputId": "dfcdaf80-18dc-498f-e68e-9a1d39facb72"
   },
   "outputs": [
    {
     "data": {
      "text/plain": [
       "['We declare no other competing interests.',\n",
       " 'The study should also be interpreted in light of the fast-evolving nature of the COVID-19 outbreak.',\n",
       " 'However, as of Feb 25, 2020, more than 40 countries would have been capacitated to accurately diagnose COVID-19 infection, thanks to the coordination efforts of AFTCOR.',\n",
       " 'Because mitigating the potential spread of COVID-19 in Africa will require rapid detection and containment, the laboratory work streams of AFTCOR, Africa CDC, and WHO are working closely to expeditiously scale up diagnostic testing capacity linked to enhanced surveillance and monitoring-eg, at the beginning of February, only two countries in Africa had the diagnostic capacity to test for COVID-19.',\n",
       " '2 The greatest concern for public health experts is whether COVID-19 will become a pandemic, with sustained year-round transmission, similar to influenza, as is now being observed in several countries.']"
      ]
     },
     "execution_count": 20,
     "metadata": {
      "tags": []
     },
     "output_type": "execute_result"
    }
   ],
   "source": [
    "#function to get the relevant sentence\n",
    "#It is possible to not get any relevant sentence cause we only keep the ones that contain at least one tag or one similar word. \n",
    "def RelevantSent(search, papers_indexes, topn_sent=5, tags=None):\n",
    "    \"\"\"\n",
    "    This is a function that look for more relevant sentences in a list of papers given a search.\n",
    "    It returns a dictionary which keys are papers indexes and values are list of top n relevant sentences\n",
    "    \"\"\"\n",
    "    model_doc2vec.random.seed(1)\n",
    "    search = preprocess_string(search)\n",
    "    search_vec = model_doc2vec.infer_vector(search)\n",
    "\n",
    "    sentences_df[\"sent_vec\"] = sentences_df.sentence_token.apply(model_doc2vec.infer_vector).values\n",
    "    sentences_df[\"cos_similarity\"] = sentences_df.sent_vec.apply(lambda sent_vec: cosine_similarity(search_vec.reshape(-1,1), sent_vec.reshape(-1,1))[0][0])\n",
    "\n",
    "    topn_sent_dict = {}\n",
    "    \n",
    "    if tags:\n",
    "        tags = tags\n",
    "            \n",
    "    for paper_index in papers_indexes:\n",
    "        sent_paper_order = sentences_df.loc[sentences_df.paper_index==paper_index, :]\n",
    "        sent_paper_order = sent_paper_order.sort_values(by=\"cos_similarity\", axis=0, ascending=False).reset_index(drop=True)\n",
    "\n",
    "        \n",
    "        #keeping only sentences with at least one tag word\n",
    "        sent_list_tag = []\n",
    "        if tags:\n",
    "            sent_list = list(sent_paper_order.loc[:10000, \"sentence\"])\n",
    "            for sent in sent_list:\n",
    "                tagIn = TagInText(sent, tags)\n",
    "                if tagIn is True:\n",
    "                    sent_list_tag.append(sent)\n",
    "\n",
    "        else:\n",
    "            sent_list_tag = list(sent_paper_order.loc[:topn_sent-1, \"sentence\"])\n",
    "            \n",
    "        topn_sent_dict[paper_index] = sent_list_tag[:topn_sent]\n",
    "        \n",
    "    return topn_sent_dict\n",
    "\n",
    "top_sent = RelevantSent(search, select_indexes, topn_sent=5, tags=tags)\n",
    "paper_index = select_indexes[3]\n",
    "top_sent[paper_index]"
   ]
  },
  {
   "cell_type": "code",
   "execution_count": 21,
   "metadata": {
    "colab": {
     "base_uri": "https://localhost:8080/",
     "height": 34
    },
    "colab_type": "code",
    "id": "prTacmsBX4iG",
    "outputId": "7bfe7c40-d92b-400a-aa94-140b0278064c"
   },
   "outputs": [
    {
     "data": {
      "text/plain": [
       "318"
      ]
     },
     "execution_count": 21,
     "metadata": {
      "tags": []
     },
     "output_type": "execute_result"
    }
   ],
   "source": [
    "paper_index"
   ]
  },
  {
   "cell_type": "code",
   "execution_count": 22,
   "metadata": {
    "colab": {
     "base_uri": "https://localhost:8080/",
     "height": 34
    },
    "colab_type": "code",
    "id": "K7U1ZjPUW2oC",
    "outputId": "d6274e38-2c76-4363-9f0e-c9ae10d92589"
   },
   "outputs": [
    {
     "data": {
      "text/plain": [
       "[184, 492, 845, 318, 403]"
      ]
     },
     "execution_count": 22,
     "metadata": {
      "tags": []
     },
     "output_type": "execute_result"
    }
   ],
   "source": [
    "select_indexes"
   ]
  },
  {
   "cell_type": "code",
   "execution_count": 0,
   "metadata": {
    "colab": {},
    "colab_type": "code",
    "id": "ESHhiHX-mG0S"
   },
   "outputs": [],
   "source": [
    "def SearchDisplayPaper(search, model_doc2vec, topn=len(top_sent), topn_sent=5, tags=None):\n",
    "    \"\"\"\n",
    "    Take a request and return most relevant papers, with their titles, authors, abstracts and most relevant sentences\n",
    "    \n",
    "    search: string containing the query\n",
    "    model_doc2vec: a Doc2Vec model trained on papers from \"data\"ay2\n",
    "    tags: string with tag words\n",
    "    topn: maximum number of results to be returned,\n",
    "    seed: an integer for random seed; useful for the doc2vec model. \n",
    "    \"\"\"\n",
    "    \n",
    "    select_indexes = SearchIndex(search=search, data=cord_search, column=\"paper\", model_doc2vec=model_doc2vec, tags=tags, topn=topn)\n",
    "    top_sent = RelevantSent(search, select_indexes, topn_sent=topn_sent, tags=tags)\n",
    "\n",
    "    if tags:\n",
    "        tag_list = tags.split()\n",
    "        similar_words = SimilarWords(tags)\n",
    "            \n",
    "    summary = \"\"\n",
    "    \n",
    "    for i,index in enumerate(select_indexes):\n",
    "        title, authors, abstract, doi = list(cord_search.loc[index, [\"title\", \"authors\", \"abstract\", \"doi\"]])\n",
    "        \n",
    "        sentences = top_sent[index]\n",
    "        top_sentences = [\n",
    "                \"\"\"\n",
    "                <h4 style=\"text-align: justify;\"><span style=\"color: #000000;\">{sent}</span></span></h4>\n",
    "                \"\"\".format(nb=i+1, sent=sent) for i, sent in enumerate(sentences) \n",
    "                ]\n",
    "\n",
    "        top_sentences = \" \".join(top_sentences)\n",
    "            \n",
    "        summary = summary + \"\"\"\n",
    "        <p>&nbsp;</p>\n",
    "        <h3><span style=\"background-color: #ffffff;\"><a href=\"https://doi.org/{doi}\" target=\"_blank\">{title}</a></span></span></h3>\n",
    "        <p><strong><span style=\"background-color: #ffffff;\"><span style=\"background-color: #ffffff;\">{authors} </span></span></p>\n",
    "        <p>&nbsp;</p>\n",
    "        \n",
    "        \"\"\".format(nb=i+1, title=title, authors=authors, abstract=abstract, doi=doi)\n",
    "        \n",
    "        \n",
    "        summary = summary + top_sentences\n",
    "        \n",
    "    summary = HTML(summary)\n",
    "    \n",
    "    return display(summary)"
   ]
  },
  {
   "cell_type": "code",
   "execution_count": 24,
   "metadata": {
    "colab": {
     "base_uri": "https://localhost:8080/",
     "height": 1000
    },
    "colab_type": "code",
    "id": "UVY74euneeOr",
    "outputId": "b0da1ad7-8ecf-418c-eb2a-7c9bfce25412",
    "scrolled": false
   },
   "outputs": [
    {
     "data": {
      "text/html": [
       "\n",
       "        <p>&nbsp;</p>\n",
       "        <h3><span style=\"background-color: #ffffff;\"><a href=\"https://doi.org/10.1016/j.ijid.2020.04.062\" target=\"_blank\">COVID-19 and Nigeria: Putting the realities in context</a></span></span></h3>\n",
       "        <p><strong><span style=\"background-color: #ffffff;\"><span style=\"background-color: #ffffff;\">Ohia, Chinenyenwa; Bakarey, Adeleye S.; Ahmad, Tauseef </span></span></p>\n",
       "        <p>&nbsp;</p>\n",
       "        \n",
       "        \n",
       "                <h4 style=\"text-align: justify;\"><span style=\"color: #000000;\">2 symptoms, shortness of breath and breathing difficulties.</span></span></h4>\n",
       "                 \n",
       "                <h4 style=\"text-align: justify;\"><span style=\"color: #000000;\">8 More so, African countries are known to have fragile health systems and this remains a source of concern especially in the event of increased outbreaks.</span></span></h4>\n",
       "                 \n",
       "                <h4 style=\"text-align: justify;\"><span style=\"color: #000000;\">03 (i.e 3% of total confirmed cases)( Table 1 ).</span></span></h4>\n",
       "                 \n",
       "                <h4 style=\"text-align: justify;\"><span style=\"color: #000000;\">6 Currently, case fatality ratio of COVID-19 infection in Nigeria is 0.</span></span></h4>\n",
       "                 \n",
       "                <h4 style=\"text-align: justify;\"><span style=\"color: #000000;\">On the African continent, although there had been pockets of infections recorded, Nigeria's first index case arrived on February 28, 2020 and since then the cases have risen by the day to 323 confirmed cases and 10 deaths as of 13th April, 2020.</span></span></h4>\n",
       "                \n",
       "        <p>&nbsp;</p>\n",
       "        <h3><span style=\"background-color: #ffffff;\"><a href=\"https://doi.org/10.1016/s0378-3782(14)70009-x\" target=\"_blank\">Emerging and re-emerging virus infections in neonates and young pediatric patients</a></span></span></h3>\n",
       "        <p><strong><span style=\"background-color: #ffffff;\"><span style=\"background-color: #ffffff;\">Baldanti, Fausto; Piralla, Antonio; Campanini, Giulia; Rovida, Francesca; Tzialla, Chryssoula; Stronati, Mauro </span></span></p>\n",
       "        <p>&nbsp;</p>\n",
       "        \n",
       "        \n",
       "                <h4 style=\"text-align: justify;\"><span style=\"color: #000000;\">Of note, the HPeV-3 strain appears to be endowed with greater virulence since it has been associated with sepsis-like syndromes, meningitis, and encephalitis in neonates and young infants [9] [10] [11] .</span></span></h4>\n",
       "                 \n",
       "                <h4 style=\"text-align: justify;\"><span style=\"color: #000000;\">Human metapneumovirus (hMPV) is a paramyxovirus that was first identified in the Netherlands in 2001 in respiratory secretions of young children with respiratory tract disease which were scored as negative using traditional diagnostic techniques.</span></span></h4>\n",
       "                 \n",
       "                <h4 style=\"text-align: justify;\"><span style=\"color: #000000;\">Sapoviruses are currently classified into seven genogroups (GI to GVII) and are able to infect humans, bats, sea lions, dogs and pigs.</span></span></h4>\n",
       "                 \n",
       "                <h4 style=\"text-align: justify;\"><span style=\"color: #000000;\">EV-C104, EV-C105, EV-C109, EV-C116, EV-C117 and EV-C118 are other enterovirus strains that have been identified in the last five years.</span></span></h4>\n",
       "                 \n",
       "                <h4 style=\"text-align: justify;\"><span style=\"color: #000000;\">In October 2013, the World Health Organization reported a cluster of acute flaccid paralysis (AFP) cases due to suspected wild poliovirus-infection in Syria.</span></span></h4>\n",
       "                \n",
       "        <p>&nbsp;</p>\n",
       "        <h3><span style=\"background-color: #ffffff;\"><a href=\"https://doi.org/10.1111/irv.12628\" target=\"_blank\">Influenza surveillance in Middle East, North, East and South Africa: Report of the 8th MENA Influenza Stakeholders Network</a></span></span></h3>\n",
       "        <p><strong><span style=\"background-color: #ffffff;\"><span style=\"background-color: #ffffff;\">Abusrewil, Suleiman; Algeer, Abdulrahman; Aljifri, Alanoud; Al Slail, Fatima; Andrew, Melissa K.; Awad Tag Eldin, Mohamed; Al Awaidy, Salah; Ben Alaya, Nissaf; Ben Khelil, Jalila; Dbaibo, Ghassan; Derrar, Fawzi; Elahmer, Omar; Ghosn, Nada; Gabriel, Guelsah; Grasso, Cindy; Hassan, Mohamed; Hirve, Siddhivinayak; Mirza, Yusuf Kamal; Rateb, Yousef Moh'd; Nourlil, Jalal; Nunes, Marta C.; Omaima, Idris; Malande, Oliver Ombeva; Saadatian‐Elahi, Mitra; Sanchez‐Picot, Valentina; Sk. Mamunur Rahman, Malik; Tarraf, Hesham; Walaza, Sibongile </span></span></p>\n",
       "        <p>&nbsp;</p>\n",
       "        \n",
       "        \n",
       "                <h4 style=\"text-align: justify;\"><span style=\"color: #000000;\">Finally, influenza burden (ie morbidity, mortality, loss of working hours) is not well described.</span></span></h4>\n",
       "                 \n",
       "                <h4 style=\"text-align: justify;\"><span style=\"color: #000000;\">Regarding influenza vaccines, developing long‐term plans for the use of seasonal influenza vaccines at least among high‐risk groups, providing/increasing funding for vaccination by governments and setting‐up vaccination campaigns were reported as the main actions to increase vaccine uptake.</span></span></h4>\n",
       "                 \n",
       "                <h4 style=\"text-align: justify;\"><span style=\"color: #000000;\">Several programmes on education of the community and HCPs are currently ongoing, but more still needs to be done.</span></span></h4>\n",
       "                 \n",
       "                <h4 style=\"text-align: justify;\"><span style=\"color: #000000;\">MENA‐ISN works as a think tank to share evidence‐based information, experience and best practices in order to address challenges in control and prevention of influenza, and to increase partnership and networking between countries and international organizations.</span></span></h4>\n",
       "                 \n",
       "                <h4 style=\"text-align: justify;\"><span style=\"color: #000000;\">More research to clearly estimate the economic burden of influenza and cost of “inaction,” to generate new evidence on influenza virus circulation and disease burden can serve as the basis to increase uptake and coverage of seasonal influenza vaccines and to guide measures for pandemic influenza.</span></span></h4>\n",
       "                \n",
       "        <p>&nbsp;</p>\n",
       "        <h3><span style=\"background-color: #ffffff;\"><a href=\"https://doi.org/10.1016/s0140-6736(20)30464-5\" target=\"_blank\">Looming threat of COVID-19 infection in Africa: act collectively, and fast</a></span></span></h3>\n",
       "        <p><strong><span style=\"background-color: #ffffff;\"><span style=\"background-color: #ffffff;\">Nkengasong, John N; Mankoula, Wessam </span></span></p>\n",
       "        <p>&nbsp;</p>\n",
       "        \n",
       "        \n",
       "                <h4 style=\"text-align: justify;\"><span style=\"color: #000000;\">We declare no other competing interests.</span></span></h4>\n",
       "                 \n",
       "                <h4 style=\"text-align: justify;\"><span style=\"color: #000000;\">The study should also be interpreted in light of the fast-evolving nature of the COVID-19 outbreak.</span></span></h4>\n",
       "                 \n",
       "                <h4 style=\"text-align: justify;\"><span style=\"color: #000000;\">However, as of Feb 25, 2020, more than 40 countries would have been capacitated to accurately diagnose COVID-19 infection, thanks to the coordination efforts of AFTCOR.</span></span></h4>\n",
       "                 \n",
       "                <h4 style=\"text-align: justify;\"><span style=\"color: #000000;\">Because mitigating the potential spread of COVID-19 in Africa will require rapid detection and containment, the laboratory work streams of AFTCOR, Africa CDC, and WHO are working closely to expeditiously scale up diagnostic testing capacity linked to enhanced surveillance and monitoring-eg, at the beginning of February, only two countries in Africa had the diagnostic capacity to test for COVID-19.</span></span></h4>\n",
       "                 \n",
       "                <h4 style=\"text-align: justify;\"><span style=\"color: #000000;\">2 The greatest concern for public health experts is whether COVID-19 will become a pandemic, with sustained year-round transmission, similar to influenza, as is now being observed in several countries.</span></span></h4>\n",
       "                \n",
       "        <p>&nbsp;</p>\n",
       "        <h3><span style=\"background-color: #ffffff;\"><a href=\"https://doi.org/10.1007/s40506-016-0083-7\" target=\"_blank\">Zika Virus: Where Is the Treatment?</a></span></span></h3>\n",
       "        <p><strong><span style=\"background-color: #ffffff;\"><span style=\"background-color: #ffffff;\">Mumtaz, Noreen; van Kampen, Jeroen J. A.; Reusken, Chantal B. E. M.; Boucher, Charles A. B.; Koopmans, Marion P. G. </span></span></p>\n",
       "        <p>&nbsp;</p>\n",
       "        \n",
       "        \n",
       "                <h4 style=\"text-align: justify;\"><span style=\"color: #000000;\">In the twenty-first century, we have seen the (re-)emergence of several RNA viruses causing severe infections in humans, like SARS and MERS coronavirus, and more recently Ebola virus and Zika virus (ZIKV).</span></span></h4>\n",
       "                 \n",
       "                <h4 style=\"text-align: justify;\"><span style=\"color: #000000;\">Furthermore, infectious ZIKV has been detected in breast milk, and there are concerns of ZIKV transmission by blood products obtained from asymptomatic viremic persons or by organ transplantation.</span></span></h4>\n",
       "                 \n",
       "                <h4 style=\"text-align: justify;\"><span style=\"color: #000000;\">Given the time needed to develop and approve new antiviral drugs, clinicians are currently left empty handed in terms of targeted antiviral treatment for ZIKV infection.</span></span></h4>\n",
       "                 \n",
       "                <h4 style=\"text-align: justify;\"><span style=\"color: #000000;\">In addition, a lesson learned from treating other RNA viruses is that monotherapy can cause the rapid emergence of resistant viruses, stressing the need for development of drugs with different modes of action to reduce the likelihood of selecting out resistant strains.</span></span></h4>\n",
       "                 \n",
       "                <h4 style=\"text-align: justify;\"><span style=\"color: #000000;\">For example, the unfavorable toxicity profile of ribavirin including teratogenicity limits its use to treat ZIKV infections in pregnant women.</span></span></h4>\n",
       "                "
      ],
      "text/plain": [
       "<IPython.core.display.HTML object>"
      ]
     },
     "metadata": {
      "tags": []
     },
     "output_type": "display_data"
    }
   ],
   "source": [
    "SearchDisplayPaper(search, model_doc2vec=model_doc2vec, topn=len(top_sent), topn_sent=5, tags=tags)"
   ]
  }
 ],
 "metadata": {
  "colab": {
   "collapsed_sections": [],
   "machine_shape": "hm",
   "name": "search_tool.ipynb",
   "provenance": []
  },
  "kernelspec": {
   "display_name": "Python 3",
   "language": "python",
   "name": "python3"
  },
  "language_info": {
   "codemirror_mode": {
    "name": "ipython",
    "version": 3
   },
   "file_extension": ".py",
   "mimetype": "text/x-python",
   "name": "python",
   "nbconvert_exporter": "python",
   "pygments_lexer": "ipython3",
   "version": "3.7.3"
  },
  "widgets": {
   "application/vnd.jupyter.widget-state+json": {
    "08dcdb54601848508b1c50696dc3001b": {
     "model_module": "@jupyter-widgets/controls",
     "model_name": "ButtonStyleModel",
     "state": {
      "_model_module": "@jupyter-widgets/controls",
      "_model_module_version": "1.5.0",
      "_model_name": "ButtonStyleModel",
      "_view_count": null,
      "_view_module": "@jupyter-widgets/base",
      "_view_module_version": "1.2.0",
      "_view_name": "StyleView",
      "button_color": null,
      "font_weight": ""
     }
    },
    "29833d42b5294858b4d50543900bf4fe": {
     "model_module": "@jupyter-widgets/controls",
     "model_name": "DescriptionStyleModel",
     "state": {
      "_model_module": "@jupyter-widgets/controls",
      "_model_module_version": "1.5.0",
      "_model_name": "DescriptionStyleModel",
      "_view_count": null,
      "_view_module": "@jupyter-widgets/base",
      "_view_module_version": "1.2.0",
      "_view_name": "StyleView",
      "description_width": ""
     }
    },
    "3820c5b990d842c5ac23e1f62a329ed3": {
     "model_module": "@jupyter-widgets/output",
     "model_name": "OutputModel",
     "state": {
      "_dom_classes": [],
      "_model_module": "@jupyter-widgets/output",
      "_model_module_version": "1.0.0",
      "_model_name": "OutputModel",
      "_view_count": null,
      "_view_module": "@jupyter-widgets/output",
      "_view_module_version": "1.0.0",
      "_view_name": "OutputView",
      "layout": "IPY_MODEL_81a56d0777df46d0873d44e3878884cc",
      "msg_id": "",
      "outputs": [
       {
        "metadata": {
         "tags": []
        },
        "output_type": "stream",
        "stream": "stdout",
        "text": "what is covid risk\n"
       }
      ]
     }
    },
    "749d78e7f25044efa6dcc2eeafb8f823": {
     "model_module": "@jupyter-widgets/base",
     "model_name": "LayoutModel",
     "state": {
      "_model_module": "@jupyter-widgets/base",
      "_model_module_version": "1.2.0",
      "_model_name": "LayoutModel",
      "_view_count": null,
      "_view_module": "@jupyter-widgets/base",
      "_view_module_version": "1.2.0",
      "_view_name": "LayoutView",
      "align_content": null,
      "align_items": null,
      "align_self": null,
      "border": null,
      "bottom": null,
      "display": null,
      "flex": null,
      "flex_flow": null,
      "grid_area": null,
      "grid_auto_columns": null,
      "grid_auto_flow": null,
      "grid_auto_rows": null,
      "grid_column": null,
      "grid_gap": null,
      "grid_row": null,
      "grid_template_areas": null,
      "grid_template_columns": null,
      "grid_template_rows": null,
      "height": null,
      "justify_content": null,
      "justify_items": null,
      "left": null,
      "margin": null,
      "max_height": null,
      "max_width": null,
      "min_height": null,
      "min_width": null,
      "object_fit": null,
      "object_position": null,
      "order": null,
      "overflow": null,
      "overflow_x": null,
      "overflow_y": null,
      "padding": null,
      "right": null,
      "top": null,
      "visibility": null,
      "width": null
     }
    },
    "7672b90285814ba4abbae8235bed0bd6": {
     "model_module": "@jupyter-widgets/output",
     "model_name": "OutputModel",
     "state": {
      "_dom_classes": [],
      "_model_module": "@jupyter-widgets/output",
      "_model_module_version": "1.0.0",
      "_model_name": "OutputModel",
      "_view_count": null,
      "_view_module": "@jupyter-widgets/output",
      "_view_module_version": "1.0.0",
      "_view_name": "OutputView",
      "layout": "IPY_MODEL_abc1989fcb7c45c1a2580e1f4a9f1f40",
      "msg_id": "",
      "outputs": []
     }
    },
    "81a56d0777df46d0873d44e3878884cc": {
     "model_module": "@jupyter-widgets/base",
     "model_name": "LayoutModel",
     "state": {
      "_model_module": "@jupyter-widgets/base",
      "_model_module_version": "1.2.0",
      "_model_name": "LayoutModel",
      "_view_count": null,
      "_view_module": "@jupyter-widgets/base",
      "_view_module_version": "1.2.0",
      "_view_name": "LayoutView",
      "align_content": null,
      "align_items": null,
      "align_self": null,
      "border": null,
      "bottom": null,
      "display": null,
      "flex": null,
      "flex_flow": null,
      "grid_area": null,
      "grid_auto_columns": null,
      "grid_auto_flow": null,
      "grid_auto_rows": null,
      "grid_column": null,
      "grid_gap": null,
      "grid_row": null,
      "grid_template_areas": null,
      "grid_template_columns": null,
      "grid_template_rows": null,
      "height": null,
      "justify_content": null,
      "justify_items": null,
      "left": null,
      "margin": null,
      "max_height": null,
      "max_width": null,
      "min_height": null,
      "min_width": null,
      "object_fit": null,
      "object_position": null,
      "order": null,
      "overflow": null,
      "overflow_x": null,
      "overflow_y": null,
      "padding": null,
      "right": null,
      "top": null,
      "visibility": null,
      "width": null
     }
    },
    "81d9e5e082bc458b8af25aad24100719": {
     "model_module": "@jupyter-widgets/base",
     "model_name": "LayoutModel",
     "state": {
      "_model_module": "@jupyter-widgets/base",
      "_model_module_version": "1.2.0",
      "_model_name": "LayoutModel",
      "_view_count": null,
      "_view_module": "@jupyter-widgets/base",
      "_view_module_version": "1.2.0",
      "_view_name": "LayoutView",
      "align_content": null,
      "align_items": null,
      "align_self": null,
      "border": null,
      "bottom": null,
      "display": null,
      "flex": null,
      "flex_flow": null,
      "grid_area": null,
      "grid_auto_columns": null,
      "grid_auto_flow": null,
      "grid_auto_rows": null,
      "grid_column": null,
      "grid_gap": null,
      "grid_row": null,
      "grid_template_areas": null,
      "grid_template_columns": null,
      "grid_template_rows": null,
      "height": null,
      "justify_content": null,
      "justify_items": null,
      "left": null,
      "margin": null,
      "max_height": null,
      "max_width": null,
      "min_height": null,
      "min_width": null,
      "object_fit": null,
      "object_position": null,
      "order": null,
      "overflow": null,
      "overflow_x": null,
      "overflow_y": null,
      "padding": null,
      "right": null,
      "top": null,
      "visibility": null,
      "width": null
     }
    },
    "a0cd4e270a564ec9b0697ae78ca72eaa": {
     "model_module": "@jupyter-widgets/controls",
     "model_name": "ButtonModel",
     "state": {
      "_dom_classes": [],
      "_model_module": "@jupyter-widgets/controls",
      "_model_module_version": "1.5.0",
      "_model_name": "ButtonModel",
      "_view_count": null,
      "_view_module": "@jupyter-widgets/controls",
      "_view_module_version": "1.5.0",
      "_view_name": "ButtonView",
      "button_style": "",
      "description": "Run",
      "disabled": false,
      "icon": "",
      "layout": "IPY_MODEL_81d9e5e082bc458b8af25aad24100719",
      "style": "IPY_MODEL_08dcdb54601848508b1c50696dc3001b",
      "tooltip": ""
     }
    },
    "a72ffce6a05842d495c1efb2bd34240b": {
     "model_module": "@jupyter-widgets/controls",
     "model_name": "TextModel",
     "state": {
      "_dom_classes": [],
      "_model_module": "@jupyter-widgets/controls",
      "_model_module_version": "1.5.0",
      "_model_name": "TextModel",
      "_view_count": null,
      "_view_module": "@jupyter-widgets/controls",
      "_view_module_version": "1.5.0",
      "_view_name": "TextView",
      "continuous_update": true,
      "description": "Search",
      "description_tooltip": null,
      "disabled": false,
      "layout": "IPY_MODEL_749d78e7f25044efa6dcc2eeafb8f823",
      "placeholder": "​",
      "style": "IPY_MODEL_29833d42b5294858b4d50543900bf4fe",
      "value": "what is covid risk"
     }
    },
    "a92f97c2473641ac8de9800d4e209232": {
     "model_module": "@jupyter-widgets/controls",
     "model_name": "VBoxModel",
     "state": {
      "_dom_classes": [
       "widget-interact"
      ],
      "_model_module": "@jupyter-widgets/controls",
      "_model_module_version": "1.5.0",
      "_model_name": "VBoxModel",
      "_view_count": null,
      "_view_module": "@jupyter-widgets/controls",
      "_view_module_version": "1.5.0",
      "_view_name": "VBoxView",
      "box_style": "",
      "children": [
       "IPY_MODEL_a72ffce6a05842d495c1efb2bd34240b",
       "IPY_MODEL_7672b90285814ba4abbae8235bed0bd6"
      ],
      "layout": "IPY_MODEL_f59aee79e8ed4044860b6d52efc00901"
     }
    },
    "abc1989fcb7c45c1a2580e1f4a9f1f40": {
     "model_module": "@jupyter-widgets/base",
     "model_name": "LayoutModel",
     "state": {
      "_model_module": "@jupyter-widgets/base",
      "_model_module_version": "1.2.0",
      "_model_name": "LayoutModel",
      "_view_count": null,
      "_view_module": "@jupyter-widgets/base",
      "_view_module_version": "1.2.0",
      "_view_name": "LayoutView",
      "align_content": null,
      "align_items": null,
      "align_self": null,
      "border": null,
      "bottom": null,
      "display": null,
      "flex": null,
      "flex_flow": null,
      "grid_area": null,
      "grid_auto_columns": null,
      "grid_auto_flow": null,
      "grid_auto_rows": null,
      "grid_column": null,
      "grid_gap": null,
      "grid_row": null,
      "grid_template_areas": null,
      "grid_template_columns": null,
      "grid_template_rows": null,
      "height": null,
      "justify_content": null,
      "justify_items": null,
      "left": null,
      "margin": null,
      "max_height": null,
      "max_width": null,
      "min_height": null,
      "min_width": null,
      "object_fit": null,
      "object_position": null,
      "order": null,
      "overflow": null,
      "overflow_x": null,
      "overflow_y": null,
      "padding": null,
      "right": null,
      "top": null,
      "visibility": null,
      "width": null
     }
    },
    "f59aee79e8ed4044860b6d52efc00901": {
     "model_module": "@jupyter-widgets/base",
     "model_name": "LayoutModel",
     "state": {
      "_model_module": "@jupyter-widgets/base",
      "_model_module_version": "1.2.0",
      "_model_name": "LayoutModel",
      "_view_count": null,
      "_view_module": "@jupyter-widgets/base",
      "_view_module_version": "1.2.0",
      "_view_name": "LayoutView",
      "align_content": null,
      "align_items": null,
      "align_self": null,
      "border": null,
      "bottom": null,
      "display": null,
      "flex": null,
      "flex_flow": null,
      "grid_area": null,
      "grid_auto_columns": null,
      "grid_auto_flow": null,
      "grid_auto_rows": null,
      "grid_column": null,
      "grid_gap": null,
      "grid_row": null,
      "grid_template_areas": null,
      "grid_template_columns": null,
      "grid_template_rows": null,
      "height": null,
      "justify_content": null,
      "justify_items": null,
      "left": null,
      "margin": null,
      "max_height": null,
      "max_width": null,
      "min_height": null,
      "min_width": null,
      "object_fit": null,
      "object_position": null,
      "order": null,
      "overflow": null,
      "overflow_x": null,
      "overflow_y": null,
      "padding": null,
      "right": null,
      "top": null,
      "visibility": null,
      "width": null
     }
    }
   }
  }
 },
 "nbformat": 4,
 "nbformat_minor": 1
}
